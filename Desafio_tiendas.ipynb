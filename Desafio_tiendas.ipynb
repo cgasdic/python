{
  "nbformat": 4,
  "nbformat_minor": 0,
  "metadata": {
    "colab": {
      "provenance": [],
      "include_colab_link": true
    },
    "kernelspec": {
      "name": "python3",
      "display_name": "Python 3"
    },
    "language_info": {
      "name": "python"
    }
  },
  "cells": [
    {
      "cell_type": "markdown",
      "metadata": {
        "id": "view-in-github",
        "colab_type": "text"
      },
      "source": [
        "<a href=\"https://colab.research.google.com/github/cgasdic/python/blob/main/Desafio_tiendas.ipynb\" target=\"_parent\"><img src=\"https://colab.research.google.com/assets/colab-badge.svg\" alt=\"Open In Colab\"/></a>"
      ]
    },
    {
      "cell_type": "markdown",
      "source": [
        "### Importación de datos\n",
        "\n"
      ],
      "metadata": {
        "id": "RhEdWd9YUR6H"
      }
    },
    {
      "cell_type": "code",
      "execution_count": 108,
      "metadata": {
        "colab": {
          "base_uri": "https://localhost:8080/",
          "height": 362
        },
        "id": "T3EvaeQ_INIL",
        "outputId": "719ed74f-73aa-4a15-dc64-6dfa2ef07e05"
      },
      "outputs": [
        {
          "output_type": "execute_result",
          "data": {
            "text/plain": [
              "            Producto Categoría del Producto    Precio  Costo de envío  \\\n",
              "0  Asistente virtual           Electrónicos  164300.0          6900.0   \n",
              "1    Mesa de comedor                Muebles  192300.0          8400.0   \n",
              "2      Juego de mesa               Juguetes  209600.0         15900.0   \n",
              "3         Microondas      Electrodomésticos  757500.0         41000.0   \n",
              "4   Silla de oficina                Muebles  335200.0         20200.0   \n",
              "\n",
              "  Fecha de Compra         Vendedor Lugar de Compra  Calificación  \\\n",
              "0      16/01/2021      Pedro Gomez          Bogotá             4   \n",
              "1      18/05/2022  Beatriz Morales        Medellín             1   \n",
              "2      15/03/2021   Juan Fernandez       Cartagena             1   \n",
              "3      03/05/2022   Juan Fernandez            Cali             4   \n",
              "4      07/11/2020    Maria Alfonso        Medellín             5   \n",
              "\n",
              "       Método de pago  Cantidad de cuotas       lat       lon  \n",
              "0  Tarjeta de crédito                   8   4.60971 -74.08175  \n",
              "1  Tarjeta de crédito                   4   6.25184 -75.56359  \n",
              "2  Tarjeta de crédito                   1  10.39972 -75.51444  \n",
              "3               Nequi                   1   3.43722 -76.52250  \n",
              "4               Nequi                   1   6.25184 -75.56359  "
            ],
            "text/html": [
              "\n",
              "  <div id=\"df-4ab0ccec-bf1e-4acb-9ab9-752d666ac30f\" class=\"colab-df-container\">\n",
              "    <div>\n",
              "<style scoped>\n",
              "    .dataframe tbody tr th:only-of-type {\n",
              "        vertical-align: middle;\n",
              "    }\n",
              "\n",
              "    .dataframe tbody tr th {\n",
              "        vertical-align: top;\n",
              "    }\n",
              "\n",
              "    .dataframe thead th {\n",
              "        text-align: right;\n",
              "    }\n",
              "</style>\n",
              "<table border=\"1\" class=\"dataframe\">\n",
              "  <thead>\n",
              "    <tr style=\"text-align: right;\">\n",
              "      <th></th>\n",
              "      <th>Producto</th>\n",
              "      <th>Categoría del Producto</th>\n",
              "      <th>Precio</th>\n",
              "      <th>Costo de envío</th>\n",
              "      <th>Fecha de Compra</th>\n",
              "      <th>Vendedor</th>\n",
              "      <th>Lugar de Compra</th>\n",
              "      <th>Calificación</th>\n",
              "      <th>Método de pago</th>\n",
              "      <th>Cantidad de cuotas</th>\n",
              "      <th>lat</th>\n",
              "      <th>lon</th>\n",
              "    </tr>\n",
              "  </thead>\n",
              "  <tbody>\n",
              "    <tr>\n",
              "      <th>0</th>\n",
              "      <td>Asistente virtual</td>\n",
              "      <td>Electrónicos</td>\n",
              "      <td>164300.0</td>\n",
              "      <td>6900.0</td>\n",
              "      <td>16/01/2021</td>\n",
              "      <td>Pedro Gomez</td>\n",
              "      <td>Bogotá</td>\n",
              "      <td>4</td>\n",
              "      <td>Tarjeta de crédito</td>\n",
              "      <td>8</td>\n",
              "      <td>4.60971</td>\n",
              "      <td>-74.08175</td>\n",
              "    </tr>\n",
              "    <tr>\n",
              "      <th>1</th>\n",
              "      <td>Mesa de comedor</td>\n",
              "      <td>Muebles</td>\n",
              "      <td>192300.0</td>\n",
              "      <td>8400.0</td>\n",
              "      <td>18/05/2022</td>\n",
              "      <td>Beatriz Morales</td>\n",
              "      <td>Medellín</td>\n",
              "      <td>1</td>\n",
              "      <td>Tarjeta de crédito</td>\n",
              "      <td>4</td>\n",
              "      <td>6.25184</td>\n",
              "      <td>-75.56359</td>\n",
              "    </tr>\n",
              "    <tr>\n",
              "      <th>2</th>\n",
              "      <td>Juego de mesa</td>\n",
              "      <td>Juguetes</td>\n",
              "      <td>209600.0</td>\n",
              "      <td>15900.0</td>\n",
              "      <td>15/03/2021</td>\n",
              "      <td>Juan Fernandez</td>\n",
              "      <td>Cartagena</td>\n",
              "      <td>1</td>\n",
              "      <td>Tarjeta de crédito</td>\n",
              "      <td>1</td>\n",
              "      <td>10.39972</td>\n",
              "      <td>-75.51444</td>\n",
              "    </tr>\n",
              "    <tr>\n",
              "      <th>3</th>\n",
              "      <td>Microondas</td>\n",
              "      <td>Electrodomésticos</td>\n",
              "      <td>757500.0</td>\n",
              "      <td>41000.0</td>\n",
              "      <td>03/05/2022</td>\n",
              "      <td>Juan Fernandez</td>\n",
              "      <td>Cali</td>\n",
              "      <td>4</td>\n",
              "      <td>Nequi</td>\n",
              "      <td>1</td>\n",
              "      <td>3.43722</td>\n",
              "      <td>-76.52250</td>\n",
              "    </tr>\n",
              "    <tr>\n",
              "      <th>4</th>\n",
              "      <td>Silla de oficina</td>\n",
              "      <td>Muebles</td>\n",
              "      <td>335200.0</td>\n",
              "      <td>20200.0</td>\n",
              "      <td>07/11/2020</td>\n",
              "      <td>Maria Alfonso</td>\n",
              "      <td>Medellín</td>\n",
              "      <td>5</td>\n",
              "      <td>Nequi</td>\n",
              "      <td>1</td>\n",
              "      <td>6.25184</td>\n",
              "      <td>-75.56359</td>\n",
              "    </tr>\n",
              "  </tbody>\n",
              "</table>\n",
              "</div>\n",
              "    <div class=\"colab-df-buttons\">\n",
              "\n",
              "  <div class=\"colab-df-container\">\n",
              "    <button class=\"colab-df-convert\" onclick=\"convertToInteractive('df-4ab0ccec-bf1e-4acb-9ab9-752d666ac30f')\"\n",
              "            title=\"Convert this dataframe to an interactive table.\"\n",
              "            style=\"display:none;\">\n",
              "\n",
              "  <svg xmlns=\"http://www.w3.org/2000/svg\" height=\"24px\" viewBox=\"0 -960 960 960\">\n",
              "    <path d=\"M120-120v-720h720v720H120Zm60-500h600v-160H180v160Zm220 220h160v-160H400v160Zm0 220h160v-160H400v160ZM180-400h160v-160H180v160Zm440 0h160v-160H620v160ZM180-180h160v-160H180v160Zm440 0h160v-160H620v160Z\"/>\n",
              "  </svg>\n",
              "    </button>\n",
              "\n",
              "  <style>\n",
              "    .colab-df-container {\n",
              "      display:flex;\n",
              "      gap: 12px;\n",
              "    }\n",
              "\n",
              "    .colab-df-convert {\n",
              "      background-color: #E8F0FE;\n",
              "      border: none;\n",
              "      border-radius: 50%;\n",
              "      cursor: pointer;\n",
              "      display: none;\n",
              "      fill: #1967D2;\n",
              "      height: 32px;\n",
              "      padding: 0 0 0 0;\n",
              "      width: 32px;\n",
              "    }\n",
              "\n",
              "    .colab-df-convert:hover {\n",
              "      background-color: #E2EBFA;\n",
              "      box-shadow: 0px 1px 2px rgba(60, 64, 67, 0.3), 0px 1px 3px 1px rgba(60, 64, 67, 0.15);\n",
              "      fill: #174EA6;\n",
              "    }\n",
              "\n",
              "    .colab-df-buttons div {\n",
              "      margin-bottom: 4px;\n",
              "    }\n",
              "\n",
              "    [theme=dark] .colab-df-convert {\n",
              "      background-color: #3B4455;\n",
              "      fill: #D2E3FC;\n",
              "    }\n",
              "\n",
              "    [theme=dark] .colab-df-convert:hover {\n",
              "      background-color: #434B5C;\n",
              "      box-shadow: 0px 1px 3px 1px rgba(0, 0, 0, 0.15);\n",
              "      filter: drop-shadow(0px 1px 2px rgba(0, 0, 0, 0.3));\n",
              "      fill: #FFFFFF;\n",
              "    }\n",
              "  </style>\n",
              "\n",
              "    <script>\n",
              "      const buttonEl =\n",
              "        document.querySelector('#df-4ab0ccec-bf1e-4acb-9ab9-752d666ac30f button.colab-df-convert');\n",
              "      buttonEl.style.display =\n",
              "        google.colab.kernel.accessAllowed ? 'block' : 'none';\n",
              "\n",
              "      async function convertToInteractive(key) {\n",
              "        const element = document.querySelector('#df-4ab0ccec-bf1e-4acb-9ab9-752d666ac30f');\n",
              "        const dataTable =\n",
              "          await google.colab.kernel.invokeFunction('convertToInteractive',\n",
              "                                                    [key], {});\n",
              "        if (!dataTable) return;\n",
              "\n",
              "        const docLinkHtml = 'Like what you see? Visit the ' +\n",
              "          '<a target=\"_blank\" href=https://colab.research.google.com/notebooks/data_table.ipynb>data table notebook</a>'\n",
              "          + ' to learn more about interactive tables.';\n",
              "        element.innerHTML = '';\n",
              "        dataTable['output_type'] = 'display_data';\n",
              "        await google.colab.output.renderOutput(dataTable, element);\n",
              "        const docLink = document.createElement('div');\n",
              "        docLink.innerHTML = docLinkHtml;\n",
              "        element.appendChild(docLink);\n",
              "      }\n",
              "    </script>\n",
              "  </div>\n",
              "\n",
              "\n",
              "    <div id=\"df-44c35648-378b-4408-9b14-38cdf4085aa0\">\n",
              "      <button class=\"colab-df-quickchart\" onclick=\"quickchart('df-44c35648-378b-4408-9b14-38cdf4085aa0')\"\n",
              "                title=\"Suggest charts\"\n",
              "                style=\"display:none;\">\n",
              "\n",
              "<svg xmlns=\"http://www.w3.org/2000/svg\" height=\"24px\"viewBox=\"0 0 24 24\"\n",
              "     width=\"24px\">\n",
              "    <g>\n",
              "        <path d=\"M19 3H5c-1.1 0-2 .9-2 2v14c0 1.1.9 2 2 2h14c1.1 0 2-.9 2-2V5c0-1.1-.9-2-2-2zM9 17H7v-7h2v7zm4 0h-2V7h2v10zm4 0h-2v-4h2v4z\"/>\n",
              "    </g>\n",
              "</svg>\n",
              "      </button>\n",
              "\n",
              "<style>\n",
              "  .colab-df-quickchart {\n",
              "      --bg-color: #E8F0FE;\n",
              "      --fill-color: #1967D2;\n",
              "      --hover-bg-color: #E2EBFA;\n",
              "      --hover-fill-color: #174EA6;\n",
              "      --disabled-fill-color: #AAA;\n",
              "      --disabled-bg-color: #DDD;\n",
              "  }\n",
              "\n",
              "  [theme=dark] .colab-df-quickchart {\n",
              "      --bg-color: #3B4455;\n",
              "      --fill-color: #D2E3FC;\n",
              "      --hover-bg-color: #434B5C;\n",
              "      --hover-fill-color: #FFFFFF;\n",
              "      --disabled-bg-color: #3B4455;\n",
              "      --disabled-fill-color: #666;\n",
              "  }\n",
              "\n",
              "  .colab-df-quickchart {\n",
              "    background-color: var(--bg-color);\n",
              "    border: none;\n",
              "    border-radius: 50%;\n",
              "    cursor: pointer;\n",
              "    display: none;\n",
              "    fill: var(--fill-color);\n",
              "    height: 32px;\n",
              "    padding: 0;\n",
              "    width: 32px;\n",
              "  }\n",
              "\n",
              "  .colab-df-quickchart:hover {\n",
              "    background-color: var(--hover-bg-color);\n",
              "    box-shadow: 0 1px 2px rgba(60, 64, 67, 0.3), 0 1px 3px 1px rgba(60, 64, 67, 0.15);\n",
              "    fill: var(--button-hover-fill-color);\n",
              "  }\n",
              "\n",
              "  .colab-df-quickchart-complete:disabled,\n",
              "  .colab-df-quickchart-complete:disabled:hover {\n",
              "    background-color: var(--disabled-bg-color);\n",
              "    fill: var(--disabled-fill-color);\n",
              "    box-shadow: none;\n",
              "  }\n",
              "\n",
              "  .colab-df-spinner {\n",
              "    border: 2px solid var(--fill-color);\n",
              "    border-color: transparent;\n",
              "    border-bottom-color: var(--fill-color);\n",
              "    animation:\n",
              "      spin 1s steps(1) infinite;\n",
              "  }\n",
              "\n",
              "  @keyframes spin {\n",
              "    0% {\n",
              "      border-color: transparent;\n",
              "      border-bottom-color: var(--fill-color);\n",
              "      border-left-color: var(--fill-color);\n",
              "    }\n",
              "    20% {\n",
              "      border-color: transparent;\n",
              "      border-left-color: var(--fill-color);\n",
              "      border-top-color: var(--fill-color);\n",
              "    }\n",
              "    30% {\n",
              "      border-color: transparent;\n",
              "      border-left-color: var(--fill-color);\n",
              "      border-top-color: var(--fill-color);\n",
              "      border-right-color: var(--fill-color);\n",
              "    }\n",
              "    40% {\n",
              "      border-color: transparent;\n",
              "      border-right-color: var(--fill-color);\n",
              "      border-top-color: var(--fill-color);\n",
              "    }\n",
              "    60% {\n",
              "      border-color: transparent;\n",
              "      border-right-color: var(--fill-color);\n",
              "    }\n",
              "    80% {\n",
              "      border-color: transparent;\n",
              "      border-right-color: var(--fill-color);\n",
              "      border-bottom-color: var(--fill-color);\n",
              "    }\n",
              "    90% {\n",
              "      border-color: transparent;\n",
              "      border-bottom-color: var(--fill-color);\n",
              "    }\n",
              "  }\n",
              "</style>\n",
              "\n",
              "      <script>\n",
              "        async function quickchart(key) {\n",
              "          const quickchartButtonEl =\n",
              "            document.querySelector('#' + key + ' button');\n",
              "          quickchartButtonEl.disabled = true;  // To prevent multiple clicks.\n",
              "          quickchartButtonEl.classList.add('colab-df-spinner');\n",
              "          try {\n",
              "            const charts = await google.colab.kernel.invokeFunction(\n",
              "                'suggestCharts', [key], {});\n",
              "          } catch (error) {\n",
              "            console.error('Error during call to suggestCharts:', error);\n",
              "          }\n",
              "          quickchartButtonEl.classList.remove('colab-df-spinner');\n",
              "          quickchartButtonEl.classList.add('colab-df-quickchart-complete');\n",
              "        }\n",
              "        (() => {\n",
              "          let quickchartButtonEl =\n",
              "            document.querySelector('#df-44c35648-378b-4408-9b14-38cdf4085aa0 button');\n",
              "          quickchartButtonEl.style.display =\n",
              "            google.colab.kernel.accessAllowed ? 'block' : 'none';\n",
              "        })();\n",
              "      </script>\n",
              "    </div>\n",
              "\n",
              "    </div>\n",
              "  </div>\n"
            ],
            "application/vnd.google.colaboratory.intrinsic+json": {
              "type": "dataframe",
              "variable_name": "tienda",
              "summary": "{\n  \"name\": \"tienda\",\n  \"rows\": 2359,\n  \"fields\": [\n    {\n      \"column\": \"Producto\",\n      \"properties\": {\n        \"dtype\": \"category\",\n        \"num_unique_values\": 51,\n        \"samples\": [\n          \"Guitarra ac\\u00fastica\",\n          \"Bal\\u00f3n de baloncesto\",\n          \"Smartwatch\"\n        ],\n        \"semantic_type\": \"\",\n        \"description\": \"\"\n      }\n    },\n    {\n      \"column\": \"Categor\\u00eda del Producto\",\n      \"properties\": {\n        \"dtype\": \"category\",\n        \"num_unique_values\": 8,\n        \"samples\": [\n          \"Muebles\",\n          \"Deportes y diversi\\u00f3n\",\n          \"Electr\\u00f3nicos\"\n        ],\n        \"semantic_type\": \"\",\n        \"description\": \"\"\n      }\n    },\n    {\n      \"column\": \"Precio\",\n      \"properties\": {\n        \"dtype\": \"number\",\n        \"std\": 614686.7653873172,\n        \"min\": 7600.0,\n        \"max\": 2977000.0,\n        \"num_unique_values\": 1937,\n        \"samples\": [\n          2499400.0,\n          14800.0,\n          80500.0\n        ],\n        \"semantic_type\": \"\",\n        \"description\": \"\"\n      }\n    },\n    {\n      \"column\": \"Costo de env\\u00edo\",\n      \"properties\": {\n        \"dtype\": \"number\",\n        \"std\": 32860.0017825605,\n        \"min\": 0.0,\n        \"max\": 160800.0,\n        \"num_unique_values\": 753,\n        \"samples\": [\n          117800.0,\n          54700.0,\n          45600.0\n        ],\n        \"semantic_type\": \"\",\n        \"description\": \"\"\n      }\n    },\n    {\n      \"column\": \"Fecha de Compra\",\n      \"properties\": {\n        \"dtype\": \"object\",\n        \"num_unique_values\": 1018,\n        \"samples\": [\n          \"15/09/2022\",\n          \"03/06/2020\",\n          \"06/11/2021\"\n        ],\n        \"semantic_type\": \"\",\n        \"description\": \"\"\n      }\n    },\n    {\n      \"column\": \"Vendedor\",\n      \"properties\": {\n        \"dtype\": \"category\",\n        \"num_unique_values\": 14,\n        \"samples\": [\n          \"Juliana Costa\",\n          \"Mariana Herrera\",\n          \"Pedro Gomez\"\n        ],\n        \"semantic_type\": \"\",\n        \"description\": \"\"\n      }\n    },\n    {\n      \"column\": \"Lugar de Compra\",\n      \"properties\": {\n        \"dtype\": \"category\",\n        \"num_unique_values\": 19,\n        \"samples\": [\n          \"Bogot\\u00e1\",\n          \"Pereira\",\n          \"Neiva\"\n        ],\n        \"semantic_type\": \"\",\n        \"description\": \"\"\n      }\n    },\n    {\n      \"column\": \"Calificaci\\u00f3n\",\n      \"properties\": {\n        \"dtype\": \"number\",\n        \"std\": 1,\n        \"min\": 1,\n        \"max\": 5,\n        \"num_unique_values\": 5,\n        \"samples\": [\n          1,\n          2,\n          5\n        ],\n        \"semantic_type\": \"\",\n        \"description\": \"\"\n      }\n    },\n    {\n      \"column\": \"M\\u00e9todo de pago\",\n      \"properties\": {\n        \"dtype\": \"category\",\n        \"num_unique_values\": 4,\n        \"samples\": [\n          \"Nequi\",\n          \"Tarjeta de d\\u00e9bito\",\n          \"Tarjeta de cr\\u00e9dito\"\n        ],\n        \"semantic_type\": \"\",\n        \"description\": \"\"\n      }\n    },\n    {\n      \"column\": \"Cantidad de cuotas\",\n      \"properties\": {\n        \"dtype\": \"number\",\n        \"std\": 2,\n        \"min\": 1,\n        \"max\": 24,\n        \"num_unique_values\": 15,\n        \"samples\": [\n          7,\n          14,\n          8\n        ],\n        \"semantic_type\": \"\",\n        \"description\": \"\"\n      }\n    },\n    {\n      \"column\": \"lat\",\n      \"properties\": {\n        \"dtype\": \"number\",\n        \"std\": 2.2874452492678627,\n        \"min\": -4.21528,\n        \"max\": 11.54444,\n        \"num_unique_values\": 19,\n        \"samples\": [\n          4.60971,\n          4.81333,\n          2.9273\n        ],\n        \"semantic_type\": \"\",\n        \"description\": \"\"\n      }\n    },\n    {\n      \"column\": \"lon\",\n      \"properties\": {\n        \"dtype\": \"number\",\n        \"std\": 1.2178272727088486,\n        \"min\": -77.28111,\n        \"max\": -67.9239,\n        \"num_unique_values\": 19,\n        \"samples\": [\n          -74.08175,\n          -75.69611,\n          -75.28189\n        ],\n        \"semantic_type\": \"\",\n        \"description\": \"\"\n      }\n    }\n  ]\n}"
            }
          },
          "metadata": {},
          "execution_count": 108
        }
      ],
      "source": [
        "import pandas as pd\n",
        "\n",
        "url = \"https://raw.githubusercontent.com/alura-es-cursos/challenge1-data-science-latam/refs/heads/main/base-de-datos-challenge1-latam/tienda_1%20.csv\"\n",
        "url2 = \"https://raw.githubusercontent.com/alura-es-cursos/challenge1-data-science-latam/refs/heads/main/base-de-datos-challenge1-latam/tienda_2.csv\"\n",
        "url3 = \"https://raw.githubusercontent.com/alura-es-cursos/challenge1-data-science-latam/refs/heads/main/base-de-datos-challenge1-latam/tienda_3.csv\"\n",
        "url4 = \"https://raw.githubusercontent.com/alura-es-cursos/challenge1-data-science-latam/refs/heads/main/base-de-datos-challenge1-latam/tienda_4.csv\"\n",
        "\n",
        "tienda = pd.read_csv(url)\n",
        "tienda2 = pd.read_csv(url2)\n",
        "tienda3 = pd.read_csv(url3)\n",
        "tienda4 = pd.read_csv(url4)\n",
        "\n",
        "tienda.head()"
      ]
    },
    {
      "cell_type": "markdown",
      "source": [
        "#1. Análisis de facturación\n",
        "\n"
      ],
      "metadata": {
        "id": "X62IW3KFUIYm"
      }
    },
    {
      "cell_type": "code",
      "source": [
        "ventas = []\n",
        "ventas_1 = tienda['Precio'].sum() + tienda['Costo de envío'].sum()\n",
        "print(\"El total de ventas de la tienda_1 es:\", '$', (\"{:,}\".format(ventas_1).replace(',','~').replace('.',',').replace('~','.'))  )\n",
        "ventas.append(ventas_1)\n",
        "\n",
        "ventas_2 = tienda2['Precio'].sum() + tienda2['Costo de envío'].sum()\n",
        "print(\"El total de ventas de la tienda_2 es:\", '$', (\"{:,}\".format(ventas_2).replace(',','~').replace('.',',').replace('~','.')))\n",
        "ventas.append(ventas_2)\n",
        "\n",
        "ventas_3 = tienda3['Precio'].sum() + tienda3['Costo de envío'].sum()\n",
        "print(\"El total de ventas de la tienda_3 es:\", '$', (\"{:,}\".format(ventas_3).replace(',','~').replace('.',',').replace('~','.')))\n",
        "ventas.append(ventas_3)\n",
        "\n",
        "ventas_4 = tienda4['Precio'].sum() + tienda4['Costo de envío'].sum()\n",
        "print(\"El total de ventas de la tienda_4 es:\", '$', (\"{:,}\".format(ventas_4).replace(',','~').replace('.',',').replace('~','.')))\n",
        "ventas.append(ventas_4)"
      ],
      "metadata": {
        "colab": {
          "base_uri": "https://localhost:8080/"
        },
        "id": "U4zXbXd8plNb",
        "outputId": "8dfe8079-776a-40b4-803e-9a3683ef7d63"
      },
      "execution_count": 109,
      "outputs": [
        {
          "output_type": "stream",
          "name": "stdout",
          "text": [
            "El total de ventas de la tienda_1 es: $ 1.212.258.300,0\n",
            "El total de ventas de la tienda_2 es: $ 1.175.828.600,0\n",
            "El total de ventas de la tienda_3 es: $ 1.156.536.200,0\n",
            "El total de ventas de la tienda_4 es: $ 1.093.693.100,0\n"
          ]
        }
      ]
    },
    {
      "cell_type": "code",
      "source": [],
      "metadata": {
        "id": "sMFXDVFLD3lZ"
      },
      "execution_count": 109,
      "outputs": []
    },
    {
      "cell_type": "code",
      "source": [
        "# prompt: crear grafico tienda\n",
        "import matplotlib.pyplot as plt\n",
        "import numpy as np\n",
        "etiquetas = ['Tienda 1', 'Tienda 2', 'Tienda 3', 'Tienda 4']\n",
        "co = np.arange(len(ventas))\n",
        "an = 0.5\n",
        "fig , ax = plt.subplots()\n",
        "for i,j in zip(co,ventas):\n",
        "     ax.annotate(j, xy=(i-0.3,j+0.3))\n",
        "ax.bar(co,ventas,an)\n",
        "ax.set_xticks(co)\n",
        "ax.set_xticklabels(etiquetas)\n",
        "plt.ylabel('Ventas en millones ($)')\n",
        "plt.title('Total de ventas por tienda')\n",
        "plt.show()\n"
      ],
      "metadata": {
        "colab": {
          "base_uri": "https://localhost:8080/",
          "height": 452
        },
        "id": "8SWenbev-1Ti",
        "outputId": "5d557629-c187-4aef-ced1-4c2c6e63b54f"
      },
      "execution_count": 110,
      "outputs": [
        {
          "output_type": "display_data",
          "data": {
            "text/plain": [
              "<Figure size 640x480 with 1 Axes>"
            ],
            "image/png": "[encoded data removed]"
          },
          "metadata": {}
        }
      ]
    },
    {
      "cell_type": "code",
      "source": [],
      "metadata": {
        "id": "AeYJU5UiDDXm"
      },
      "execution_count": 110,
      "outputs": []
    },
    {
      "cell_type": "markdown",
      "source": [
        "# 2. Ventas por categoría"
      ],
      "metadata": {
        "id": "2V_vcAPzWZmR"
      }
    },
    {
      "cell_type": "code",
      "source": [
        "df_categoria_1 = tienda.groupby('Categoría del Producto')[['Precio','Costo de envío']].sum().sort_values(by='Precio')\n",
        "df_categoria_1 = df_categoria_1['Precio'] + df_categoria_1['Costo de envío']\n",
        "print('LAS VENTAS POR CATEGORIA DE LA TIENDA 1 ES:')\n",
        "df_categoria_1.head(15)"
      ],
      "metadata": {
        "id": "A34YupIuYhfF",
        "colab": {
          "base_uri": "https://localhost:8080/",
          "height": 383
        },
        "outputId": "7a3e4605-519a-44e3-8f98-c1b91797f097"
      },
      "execution_count": 111,
      "outputs": [
        {
          "output_type": "stream",
          "name": "stdout",
          "text": [
            "LAS VENTAS POR CATEGORIA DE LA TIENDA 1 ES:\n"
          ]
        },
        {
          "output_type": "execute_result",
          "data": {
            "text/plain": [
              "Categoría del Producto\n",
              "Libros                       9251900.0\n",
              "Artículos para el hogar     13342200.0\n",
              "Juguetes                    18975200.0\n",
              "Deportes y diversión        41411100.0\n",
              "Instrumentos musicales      96182900.0\n",
              "Muebles                    197628600.0\n",
              "Electrodomésticos          383009200.0\n",
              "Electrónicos               452457200.0\n",
              "dtype: float64"
            ],
            "text/html": [
              "<div>\n",
              "<style scoped>\n",
              "    .dataframe tbody tr th:only-of-type {\n",
              "        vertical-align: middle;\n",
              "    }\n",
              "\n",
              "    .dataframe tbody tr th {\n",
              "        vertical-align: top;\n",
              "    }\n",
              "\n",
              "    .dataframe thead th {\n",
              "        text-align: right;\n",
              "    }\n",
              "</style>\n",
              "<table border=\"1\" class=\"dataframe\">\n",
              "  <thead>\n",
              "    <tr style=\"text-align: right;\">\n",
              "      <th></th>\n",
              "      <th>0</th>\n",
              "    </tr>\n",
              "    <tr>\n",
              "      <th>Categoría del Producto</th>\n",
              "      <th></th>\n",
              "    </tr>\n",
              "  </thead>\n",
              "  <tbody>\n",
              "    <tr>\n",
              "      <th>Libros</th>\n",
              "      <td>9251900.0</td>\n",
              "    </tr>\n",
              "    <tr>\n",
              "      <th>Artículos para el hogar</th>\n",
              "      <td>13342200.0</td>\n",
              "    </tr>\n",
              "    <tr>\n",
              "      <th>Juguetes</th>\n",
              "      <td>18975200.0</td>\n",
              "    </tr>\n",
              "    <tr>\n",
              "      <th>Deportes y diversión</th>\n",
              "      <td>41411100.0</td>\n",
              "    </tr>\n",
              "    <tr>\n",
              "      <th>Instrumentos musicales</th>\n",
              "      <td>96182900.0</td>\n",
              "    </tr>\n",
              "    <tr>\n",
              "      <th>Muebles</th>\n",
              "      <td>197628600.0</td>\n",
              "    </tr>\n",
              "    <tr>\n",
              "      <th>Electrodomésticos</th>\n",
              "      <td>383009200.0</td>\n",
              "    </tr>\n",
              "    <tr>\n",
              "      <th>Electrónicos</th>\n",
              "      <td>452457200.0</td>\n",
              "    </tr>\n",
              "  </tbody>\n",
              "</table>\n",
              "</div><br><label><b>dtype:</b> float64</label>"
            ]
          },
          "metadata": {},
          "execution_count": 111
        }
      ]
    },
    {
      "cell_type": "code",
      "source": [
        "df_categoria_2 = tienda2.groupby('Categoría del Producto')[['Precio','Costo de envío']].sum().sort_values(by='Precio')\n",
        "df_categoria_2 = df_categoria_2['Precio'] + df_categoria_2['Costo de envío']\n",
        "print('LAS VENTAS POR CATEGORIA DE LA TIENDA 2 ES:')\n",
        "df_categoria_2.head(10)"
      ],
      "metadata": {
        "colab": {
          "base_uri": "https://localhost:8080/",
          "height": 383
        },
        "id": "Yfr01GRRZ6sl",
        "outputId": "9301ff35-8670-4b79-b3ee-c5fde9fd9faf"
      },
      "execution_count": 112,
      "outputs": [
        {
          "output_type": "stream",
          "name": "stdout",
          "text": [
            "LAS VENTAS POR CATEGORIA DE LA TIENDA 2 ES:\n"
          ]
        },
        {
          "output_type": "execute_result",
          "data": {
            "text/plain": [
              "Categoría del Producto\n",
              "Libros                      10647000.0\n",
              "Artículos para el hogar     15547700.0\n",
              "Juguetes                    16833000.0\n",
              "Deportes y diversión        36621800.0\n",
              "Instrumentos musicales     110548000.0\n",
              "Muebles                    185862400.0\n",
              "Electrodomésticos          367123400.0\n",
              "Electrónicos               432645300.0\n",
              "dtype: float64"
            ],
            "text/html": [
              "<div>\n",
              "<style scoped>\n",
              "    .dataframe tbody tr th:only-of-type {\n",
              "        vertical-align: middle;\n",
              "    }\n",
              "\n",
              "    .dataframe tbody tr th {\n",
              "        vertical-align: top;\n",
              "    }\n",
              "\n",
              "    .dataframe thead th {\n",
              "        text-align: right;\n",
              "    }\n",
              "</style>\n",
              "<table border=\"1\" class=\"dataframe\">\n",
              "  <thead>\n",
              "    <tr style=\"text-align: right;\">\n",
              "      <th></th>\n",
              "      <th>0</th>\n",
              "    </tr>\n",
              "    <tr>\n",
              "      <th>Categoría del Producto</th>\n",
              "      <th></th>\n",
              "    </tr>\n",
              "  </thead>\n",
              "  <tbody>\n",
              "    <tr>\n",
              "      <th>Libros</th>\n",
              "      <td>10647000.0</td>\n",
              "    </tr>\n",
              "    <tr>\n",
              "      <th>Artículos para el hogar</th>\n",
              "      <td>15547700.0</td>\n",
              "    </tr>\n",
              "    <tr>\n",
              "      <th>Juguetes</th>\n",
              "      <td>16833000.0</td>\n",
              "    </tr>\n",
              "    <tr>\n",
              "      <th>Deportes y diversión</th>\n",
              "      <td>36621800.0</td>\n",
              "    </tr>\n",
              "    <tr>\n",
              "      <th>Instrumentos musicales</th>\n",
              "      <td>110548000.0</td>\n",
              "    </tr>\n",
              "    <tr>\n",
              "      <th>Muebles</th>\n",
              "      <td>185862400.0</td>\n",
              "    </tr>\n",
              "    <tr>\n",
              "      <th>Electrodomésticos</th>\n",
              "      <td>367123400.0</td>\n",
              "    </tr>\n",
              "    <tr>\n",
              "      <th>Electrónicos</th>\n",
              "      <td>432645300.0</td>\n",
              "    </tr>\n",
              "  </tbody>\n",
              "</table>\n",
              "</div><br><label><b>dtype:</b> float64</label>"
            ]
          },
          "metadata": {},
          "execution_count": 112
        }
      ]
    },
    {
      "cell_type": "code",
      "source": [
        "df_categoria_3 = tienda3.groupby('Categoría del Producto')[['Precio','Costo de envío']].sum().sort_values(by='Precio')\n",
        "df_categoria_3 = df_categoria_3['Precio'] + df_categoria_3['Costo de envío']\n",
        "print('LAS VENTAS POR CATEGORIA DE LA TIENDA 3 ES:')\n",
        "df_categoria_3.head(10)"
      ],
      "metadata": {
        "colab": {
          "base_uri": "https://localhost:8080/",
          "height": 383
        },
        "id": "kgjj7WKTZ60c",
        "outputId": "0dbb294f-3bf8-4906-a2d3-6ca7b872f203"
      },
      "execution_count": 113,
      "outputs": [
        {
          "output_type": "stream",
          "name": "stdout",
          "text": [
            "LAS VENTAS POR CATEGORIA DE LA TIENDA 3 ES:\n"
          ]
        },
        {
          "output_type": "execute_result",
          "data": {
            "text/plain": [
              "Categoría del Producto\n",
              "Libros                       9995100.0\n",
              "Artículos para el hogar     15872400.0\n",
              "Juguetes                    20442800.0\n",
              "Deportes y diversión        37516200.0\n",
              "Instrumentos musicales      81489700.0\n",
              "Muebles                    211856200.0\n",
              "Electrodomésticos          346732100.0\n",
              "Electrónicos               432631700.0\n",
              "dtype: float64"
            ],
            "text/html": [
              "<div>\n",
              "<style scoped>\n",
              "    .dataframe tbody tr th:only-of-type {\n",
              "        vertical-align: middle;\n",
              "    }\n",
              "\n",
              "    .dataframe tbody tr th {\n",
              "        vertical-align: top;\n",
              "    }\n",
              "\n",
              "    .dataframe thead th {\n",
              "        text-align: right;\n",
              "    }\n",
              "</style>\n",
              "<table border=\"1\" class=\"dataframe\">\n",
              "  <thead>\n",
              "    <tr style=\"text-align: right;\">\n",
              "      <th></th>\n",
              "      <th>0</th>\n",
              "    </tr>\n",
              "    <tr>\n",
              "      <th>Categoría del Producto</th>\n",
              "      <th></th>\n",
              "    </tr>\n",
              "  </thead>\n",
              "  <tbody>\n",
              "    <tr>\n",
              "      <th>Libros</th>\n",
              "      <td>9995100.0</td>\n",
              "    </tr>\n",
              "    <tr>\n",
              "      <th>Artículos para el hogar</th>\n",
              "      <td>15872400.0</td>\n",
              "    </tr>\n",
              "    <tr>\n",
              "      <th>Juguetes</th>\n",
              "      <td>20442800.0</td>\n",
              "    </tr>\n",
              "    <tr>\n",
              "      <th>Deportes y diversión</th>\n",
              "      <td>37516200.0</td>\n",
              "    </tr>\n",
              "    <tr>\n",
              "      <th>Instrumentos musicales</th>\n",
              "      <td>81489700.0</td>\n",
              "    </tr>\n",
              "    <tr>\n",
              "      <th>Muebles</th>\n",
              "      <td>211856200.0</td>\n",
              "    </tr>\n",
              "    <tr>\n",
              "      <th>Electrodomésticos</th>\n",
              "      <td>346732100.0</td>\n",
              "    </tr>\n",
              "    <tr>\n",
              "      <th>Electrónicos</th>\n",
              "      <td>432631700.0</td>\n",
              "    </tr>\n",
              "  </tbody>\n",
              "</table>\n",
              "</div><br><label><b>dtype:</b> float64</label>"
            ]
          },
          "metadata": {},
          "execution_count": 113
        }
      ]
    },
    {
      "cell_type": "code",
      "source": [
        "\n",
        "df_categoria_4 = tienda4.groupby('Categoría del Producto')[['Precio','Costo de envío']].sum().sort_values(by='Precio')\n",
        "df_categoria_4 = df_categoria_4['Precio'] + df_categoria_4['Costo de envío']\n",
        "print('LAS VENTAS POR CATEGORIA DE LA TIENDA 4 ES:')\n",
        "df_categoria_4.head(10)"
      ],
      "metadata": {
        "colab": {
          "base_uri": "https://localhost:8080/",
          "height": 383
        },
        "id": "CdGV0RFgZ69y",
        "outputId": "93400a85-bb75-4606-8183-ada8093e9ceb"
      },
      "execution_count": 114,
      "outputs": [
        {
          "output_type": "stream",
          "name": "stdout",
          "text": [
            "LAS VENTAS POR CATEGORIA DE LA TIENDA 4 ES:\n"
          ]
        },
        {
          "output_type": "execute_result",
          "data": {
            "text/plain": [
              "Categoría del Producto\n",
              "Libros                       9862000.0\n",
              "Artículos para el hogar     15928600.0\n",
              "Juguetes                    21374700.0\n",
              "Deportes y diversión        35120200.0\n",
              "Instrumentos musicales      79056300.0\n",
              "Muebles                    202764200.0\n",
              "Electrodomésticos          298282700.0\n",
              "Electrónicos               431304400.0\n",
              "dtype: float64"
            ],
            "text/html": [
              "<div>\n",
              "<style scoped>\n",
              "    .dataframe tbody tr th:only-of-type {\n",
              "        vertical-align: middle;\n",
              "    }\n",
              "\n",
              "    .dataframe tbody tr th {\n",
              "        vertical-align: top;\n",
              "    }\n",
              "\n",
              "    .dataframe thead th {\n",
              "        text-align: right;\n",
              "    }\n",
              "</style>\n",
              "<table border=\"1\" class=\"dataframe\">\n",
              "  <thead>\n",
              "    <tr style=\"text-align: right;\">\n",
              "      <th></th>\n",
              "      <th>0</th>\n",
              "    </tr>\n",
              "    <tr>\n",
              "      <th>Categoría del Producto</th>\n",
              "      <th></th>\n",
              "    </tr>\n",
              "  </thead>\n",
              "  <tbody>\n",
              "    <tr>\n",
              "      <th>Libros</th>\n",
              "      <td>9862000.0</td>\n",
              "    </tr>\n",
              "    <tr>\n",
              "      <th>Artículos para el hogar</th>\n",
              "      <td>15928600.0</td>\n",
              "    </tr>\n",
              "    <tr>\n",
              "      <th>Juguetes</th>\n",
              "      <td>21374700.0</td>\n",
              "    </tr>\n",
              "    <tr>\n",
              "      <th>Deportes y diversión</th>\n",
              "      <td>35120200.0</td>\n",
              "    </tr>\n",
              "    <tr>\n",
              "      <th>Instrumentos musicales</th>\n",
              "      <td>79056300.0</td>\n",
              "    </tr>\n",
              "    <tr>\n",
              "      <th>Muebles</th>\n",
              "      <td>202764200.0</td>\n",
              "    </tr>\n",
              "    <tr>\n",
              "      <th>Electrodomésticos</th>\n",
              "      <td>298282700.0</td>\n",
              "    </tr>\n",
              "    <tr>\n",
              "      <th>Electrónicos</th>\n",
              "      <td>431304400.0</td>\n",
              "    </tr>\n",
              "  </tbody>\n",
              "</table>\n",
              "</div><br><label><b>dtype:</b> float64</label>"
            ]
          },
          "metadata": {},
          "execution_count": 114
        }
      ]
    },
    {
      "cell_type": "code",
      "source": [
        "# prompt: grafico categoria tienda\n",
        "\n",
        "df_categoria_2 = tienda2.groupby('Categoría del Producto')[['Precio','Costo de envío']].sum().sort_values(by='Precio')\n",
        "df_categoria_2 = df_categoria_2['Precio'] + df_categoria_2['Costo de envío']\n",
        "\n",
        "df_categoria_2.head(10)\n",
        "\n",
        "df_categoria_3 = tienda3.groupby('Categoría del Producto')[['Precio','Costo de envío']].sum().sort_values(by='Precio')\n",
        "df_categoria_3 = df_categoria_3['Precio'] + df_categoria_3['Costo de envío']\n",
        "\n",
        "df_categoria_3.head(10)\n",
        "\n",
        "df_categoria_4 = tienda4.groupby('Categoría del Producto')[['Precio','Costo de envío']].sum().sort_values(by='Precio')\n",
        "df_categoria_4 = df_categoria_4['Precio'] + df_categoria_4['Costo de envío']\n",
        "\n",
        "df_categoria_4.head(10)\n",
        "\n",
        "# Combine category sales dataframes\n",
        "combined_category_sales = pd.concat([df_categoria_1, df_categoria_2, df_categoria_3, df_categoria_4], axis=1)\n",
        "combined_category_sales.columns = ['Tienda 1', 'Tienda 2', 'Tienda 3', 'Tienda 4']\n",
        "\n",
        "# Plot combined category sales\n",
        "combined_category_sales.plot(kind='bar', figsize=(12, 8))\n",
        "plt.ylabel('Ventas ($)')\n",
        "plt.title('Total de ventas por categoría y tienda')\n",
        "plt.xlabel('Categoría del Producto')\n",
        "plt.xticks(rotation=90)\n",
        "plt.legend(title='Tiendas')\n",
        "plt.tight_layout()\n",
        "plt.grid()\n",
        "plt.show()"
      ],
      "metadata": {
        "colab": {
          "base_uri": "https://localhost:8080/",
          "height": 785
        },
        "id": "S-1TJbCBJJc-",
        "outputId": "351ede94-48ca-442b-86fe-640c13ee487c"
      },
      "execution_count": 115,
      "outputs": [
        {
          "output_type": "display_data",
          "data": {
            "text/plain": [
              "<Figure size 1200x800 with 1 Axes>"
            ],
            "image/png": "[encoded data removed]"
          },
          "metadata": {}
        }
      ]
    },
    {
      "cell_type": "markdown",
      "source": [
        "# 3. Calificación promedio de la tienda\n"
      ],
      "metadata": {
        "id": "Rq6tU_xSY3jk"
      }
    },
    {
      "cell_type": "code",
      "source": [
        "#promedio_1 = tienda.groupby('Vendedor')[['Calificación']].mean()\n",
        "pro_1 = tienda['Calificación'].mean()\n",
        "pro_1 = round(pro_1, 2)\n",
        "print('La califiación promedio de la tienda 1 es :',pro_1)\n",
        "\n",
        "pro_2 = tienda2['Calificación'].mean()\n",
        "pro_2 = round(pro_2, 2)\n",
        "print('La califiación promedio de la tienda 2 es :',pro_2)\n",
        "\n",
        "pro_3 = tienda3['Calificación'].mean()\n",
        "pro_3 = round(pro_3, 2)\n",
        "print('La califiación promedio de la tienda 3 es :',pro_3)\n",
        "\n",
        "pro_4 = tienda4['Calificación'].mean()\n",
        "pro_4 = round(pro_4, 2)\n",
        "print('La califiación promedio de la tienda 4 es :',pro_4)\n"
      ],
      "metadata": {
        "id": "I0KkjPoTY88F",
        "colab": {
          "base_uri": "https://localhost:8080/"
        },
        "outputId": "69d21250-998c-4f77-ff34-448f5438d8f6"
      },
      "execution_count": 119,
      "outputs": [
        {
          "output_type": "stream",
          "name": "stdout",
          "text": [
            "La califiación promedio de la tienda 1 es : 3.98\n",
            "La califiación promedio de la tienda 2 es : 4.04\n",
            "La califiación promedio de la tienda 3 es : 4.05\n",
            "La califiación promedio de la tienda 4 es : 4.0\n"
          ]
        }
      ]
    },
    {
      "cell_type": "code",
      "source": [],
      "metadata": {
        "id": "3BwfqOIEg-wm"
      },
      "execution_count": 63,
      "outputs": []
    },
    {
      "cell_type": "code",
      "source": [
        "# Crear grafico con los promedios\n",
        "\n",
        "etiquetas = ['Tienda 1', 'Tienda 2', 'Tienda 3', 'Tienda 4']\n",
        "promedios = [pro_1, pro_2, pro_3, pro_4]\n",
        "co = np.arange(len(promedios))\n",
        "an = 0.5\n",
        "fig , ax = plt.subplots()\n",
        "for i,j in zip(co,promedios):\n",
        "     ax.annotate(j, xy=(i-0.1,j+0.1))\n",
        "ax.bar(co,promedios,an)\n",
        "ax.set_xticks(co)\n",
        "ax.set_xticklabels(etiquetas)\n",
        "plt.ylabel('Calificación')\n",
        "plt.title('Calificación promedio por tienda')\n",
        "plt.show()"
      ],
      "metadata": {
        "id": "Xo3sI3C4LbfM",
        "colab": {
          "base_uri": "https://localhost:8080/",
          "height": 453
        },
        "outputId": "0f4123e3-7321-433d-d0eb-5a65120fc176"
      },
      "execution_count": 120,
      "outputs": [
        {
          "output_type": "display_data",
          "data": {
            "text/plain": [
              "<Figure size 640x480 with 1 Axes>"
            ],
            "image/png": "[encoded data removed]"
          },
          "metadata": {}
        }
      ]
    },
    {
      "cell_type": "markdown",
      "source": [
        "# 4. Productos más y menos vendidos"
      ],
      "metadata": {
        "id": "DmNp1KPBZCm-"
      }
    },
    {
      "cell_type": "code",
      "source": [
        "mv_1= tienda['Producto'].value_counts()\n",
        "print('LOS PRODUCTOS MAS VENDIDOS DE LA TIENDA 1 SON:')\n",
        "mv_1.head(10)"
      ],
      "metadata": {
        "colab": {
          "base_uri": "https://localhost:8080/",
          "height": 446
        },
        "id": "ECuvM5D7IQPO",
        "outputId": "49106dfa-adec-4f98-fa0d-900097599e2a"
      },
      "execution_count": 65,
      "outputs": [
        {
          "output_type": "stream",
          "name": "stdout",
          "text": [
            "LOS PRODUCTOS MAS VENDIDOS DE LA TIENDA 1 SON:\n"
          ]
        },
        {
          "output_type": "execute_result",
          "data": {
            "text/plain": [
              "Producto\n",
              "Microondas                 60\n",
              "TV LED UHD 4K              60\n",
              "Armario                    60\n",
              "Secadora de ropa           58\n",
              "Mesa de noche              56\n",
              "Bloques de construcción    56\n",
              "Balón de baloncesto        55\n",
              "Bicicleta                  54\n",
              "Vaso térmico               54\n",
              "Refrigerador               54\n",
              "Name: count, dtype: int64"
            ],
            "text/html": [
              "<div>\n",
              "<style scoped>\n",
              "    .dataframe tbody tr th:only-of-type {\n",
              "        vertical-align: middle;\n",
              "    }\n",
              "\n",
              "    .dataframe tbody tr th {\n",
              "        vertical-align: top;\n",
              "    }\n",
              "\n",
              "    .dataframe thead th {\n",
              "        text-align: right;\n",
              "    }\n",
              "</style>\n",
              "<table border=\"1\" class=\"dataframe\">\n",
              "  <thead>\n",
              "    <tr style=\"text-align: right;\">\n",
              "      <th></th>\n",
              "      <th>count</th>\n",
              "    </tr>\n",
              "    <tr>\n",
              "      <th>Producto</th>\n",
              "      <th></th>\n",
              "    </tr>\n",
              "  </thead>\n",
              "  <tbody>\n",
              "    <tr>\n",
              "      <th>Microondas</th>\n",
              "      <td>60</td>\n",
              "    </tr>\n",
              "    <tr>\n",
              "      <th>TV LED UHD 4K</th>\n",
              "      <td>60</td>\n",
              "    </tr>\n",
              "    <tr>\n",
              "      <th>Armario</th>\n",
              "      <td>60</td>\n",
              "    </tr>\n",
              "    <tr>\n",
              "      <th>Secadora de ropa</th>\n",
              "      <td>58</td>\n",
              "    </tr>\n",
              "    <tr>\n",
              "      <th>Mesa de noche</th>\n",
              "      <td>56</td>\n",
              "    </tr>\n",
              "    <tr>\n",
              "      <th>Bloques de construcción</th>\n",
              "      <td>56</td>\n",
              "    </tr>\n",
              "    <tr>\n",
              "      <th>Balón de baloncesto</th>\n",
              "      <td>55</td>\n",
              "    </tr>\n",
              "    <tr>\n",
              "      <th>Bicicleta</th>\n",
              "      <td>54</td>\n",
              "    </tr>\n",
              "    <tr>\n",
              "      <th>Vaso térmico</th>\n",
              "      <td>54</td>\n",
              "    </tr>\n",
              "    <tr>\n",
              "      <th>Refrigerador</th>\n",
              "      <td>54</td>\n",
              "    </tr>\n",
              "  </tbody>\n",
              "</table>\n",
              "</div><br><label><b>dtype:</b> int64</label>"
            ]
          },
          "metadata": {},
          "execution_count": 65
        }
      ]
    },
    {
      "cell_type": "code",
      "source": [
        "mv_2= tienda2['Producto'].value_counts()\n",
        "print('LOS PRODUCTOS MAS VENDIDOS DE LA TIENDA 2 SON:')\n",
        "mv_2.head(10)"
      ],
      "metadata": {
        "colab": {
          "base_uri": "https://localhost:8080/",
          "height": 446
        },
        "id": "WO7wJIENUer5",
        "outputId": "0ff78758-5eac-43e5-f254-97bcb7d7202b"
      },
      "execution_count": 66,
      "outputs": [
        {
          "output_type": "stream",
          "name": "stdout",
          "text": [
            "LOS PRODUCTOS MAS VENDIDOS DE LA TIENDA 2 SON:\n"
          ]
        },
        {
          "output_type": "execute_result",
          "data": {
            "text/plain": [
              "Producto\n",
              "Iniciando en programación    65\n",
              "Microondas                   62\n",
              "Batería                      61\n",
              "Guitarra acústica            58\n",
              "Pandereta                    58\n",
              "Secadora de ropa             57\n",
              "Iphone 15                    55\n",
              "Bloques de construcción      54\n",
              "Armario                      54\n",
              "Set de ollas                 52\n",
              "Name: count, dtype: int64"
            ],
            "text/html": [
              "<div>\n",
              "<style scoped>\n",
              "    .dataframe tbody tr th:only-of-type {\n",
              "        vertical-align: middle;\n",
              "    }\n",
              "\n",
              "    .dataframe tbody tr th {\n",
              "        vertical-align: top;\n",
              "    }\n",
              "\n",
              "    .dataframe thead th {\n",
              "        text-align: right;\n",
              "    }\n",
              "</style>\n",
              "<table border=\"1\" class=\"dataframe\">\n",
              "  <thead>\n",
              "    <tr style=\"text-align: right;\">\n",
              "      <th></th>\n",
              "      <th>count</th>\n",
              "    </tr>\n",
              "    <tr>\n",
              "      <th>Producto</th>\n",
              "      <th></th>\n",
              "    </tr>\n",
              "  </thead>\n",
              "  <tbody>\n",
              "    <tr>\n",
              "      <th>Iniciando en programación</th>\n",
              "      <td>65</td>\n",
              "    </tr>\n",
              "    <tr>\n",
              "      <th>Microondas</th>\n",
              "      <td>62</td>\n",
              "    </tr>\n",
              "    <tr>\n",
              "      <th>Batería</th>\n",
              "      <td>61</td>\n",
              "    </tr>\n",
              "    <tr>\n",
              "      <th>Guitarra acústica</th>\n",
              "      <td>58</td>\n",
              "    </tr>\n",
              "    <tr>\n",
              "      <th>Pandereta</th>\n",
              "      <td>58</td>\n",
              "    </tr>\n",
              "    <tr>\n",
              "      <th>Secadora de ropa</th>\n",
              "      <td>57</td>\n",
              "    </tr>\n",
              "    <tr>\n",
              "      <th>Iphone 15</th>\n",
              "      <td>55</td>\n",
              "    </tr>\n",
              "    <tr>\n",
              "      <th>Bloques de construcción</th>\n",
              "      <td>54</td>\n",
              "    </tr>\n",
              "    <tr>\n",
              "      <th>Armario</th>\n",
              "      <td>54</td>\n",
              "    </tr>\n",
              "    <tr>\n",
              "      <th>Set de ollas</th>\n",
              "      <td>52</td>\n",
              "    </tr>\n",
              "  </tbody>\n",
              "</table>\n",
              "</div><br><label><b>dtype:</b> int64</label>"
            ]
          },
          "metadata": {},
          "execution_count": 66
        }
      ]
    },
    {
      "cell_type": "code",
      "source": [
        "mv_3= tienda4['Producto'].value_counts()\n",
        "print('LOS PRODUCTOS MAS VENDIDOS DE LA TIENDA 3 SON:')\n",
        "mv_3.head(10)"
      ],
      "metadata": {
        "colab": {
          "base_uri": "https://localhost:8080/",
          "height": 446
        },
        "id": "ougkYzrAUe7H",
        "outputId": "74e50402-4d7f-4777-c3fa-b2164b653e82"
      },
      "execution_count": 67,
      "outputs": [
        {
          "output_type": "stream",
          "name": "stdout",
          "text": [
            "LOS PRODUCTOS MAS VENDIDOS DE LA TIENDA 3 SON:\n"
          ]
        },
        {
          "output_type": "execute_result",
          "data": {
            "text/plain": [
              "Producto\n",
              "Cama box                     62\n",
              "Cubertería                   59\n",
              "Dashboards con Power BI      56\n",
              "Cama king                    56\n",
              "Carrito de control remoto    55\n",
              "Mesa de comedor              55\n",
              "Mesa de noche                55\n",
              "Smart TV                     54\n",
              "Bloques de construcción      54\n",
              "Pandereta                    52\n",
              "Name: count, dtype: int64"
            ],
            "text/html": [
              "<div>\n",
              "<style scoped>\n",
              "    .dataframe tbody tr th:only-of-type {\n",
              "        vertical-align: middle;\n",
              "    }\n",
              "\n",
              "    .dataframe tbody tr th {\n",
              "        vertical-align: top;\n",
              "    }\n",
              "\n",
              "    .dataframe thead th {\n",
              "        text-align: right;\n",
              "    }\n",
              "</style>\n",
              "<table border=\"1\" class=\"dataframe\">\n",
              "  <thead>\n",
              "    <tr style=\"text-align: right;\">\n",
              "      <th></th>\n",
              "      <th>count</th>\n",
              "    </tr>\n",
              "    <tr>\n",
              "      <th>Producto</th>\n",
              "      <th></th>\n",
              "    </tr>\n",
              "  </thead>\n",
              "  <tbody>\n",
              "    <tr>\n",
              "      <th>Cama box</th>\n",
              "      <td>62</td>\n",
              "    </tr>\n",
              "    <tr>\n",
              "      <th>Cubertería</th>\n",
              "      <td>59</td>\n",
              "    </tr>\n",
              "    <tr>\n",
              "      <th>Dashboards con Power BI</th>\n",
              "      <td>56</td>\n",
              "    </tr>\n",
              "    <tr>\n",
              "      <th>Cama king</th>\n",
              "      <td>56</td>\n",
              "    </tr>\n",
              "    <tr>\n",
              "      <th>Carrito de control remoto</th>\n",
              "      <td>55</td>\n",
              "    </tr>\n",
              "    <tr>\n",
              "      <th>Mesa de comedor</th>\n",
              "      <td>55</td>\n",
              "    </tr>\n",
              "    <tr>\n",
              "      <th>Mesa de noche</th>\n",
              "      <td>55</td>\n",
              "    </tr>\n",
              "    <tr>\n",
              "      <th>Smart TV</th>\n",
              "      <td>54</td>\n",
              "    </tr>\n",
              "    <tr>\n",
              "      <th>Bloques de construcción</th>\n",
              "      <td>54</td>\n",
              "    </tr>\n",
              "    <tr>\n",
              "      <th>Pandereta</th>\n",
              "      <td>52</td>\n",
              "    </tr>\n",
              "  </tbody>\n",
              "</table>\n",
              "</div><br><label><b>dtype:</b> int64</label>"
            ]
          },
          "metadata": {},
          "execution_count": 67
        }
      ]
    },
    {
      "cell_type": "code",
      "source": [
        "mv_4= tienda4['Producto'].value_counts()\n",
        "print('LOS PRODUCTOS MAS VENDIDOS DE LA TIENDA 4 SON:')\n",
        "mv_4.head(10)"
      ],
      "metadata": {
        "colab": {
          "base_uri": "https://localhost:8080/",
          "height": 446
        },
        "id": "2U3VvOQBUfEv",
        "outputId": "548e5543-5c48-46d9-84b1-4a5fca28ffb1"
      },
      "execution_count": 68,
      "outputs": [
        {
          "output_type": "stream",
          "name": "stdout",
          "text": [
            "LOS PRODUCTOS MAS VENDIDOS DE LA TIENDA 4 SON:\n"
          ]
        },
        {
          "output_type": "execute_result",
          "data": {
            "text/plain": [
              "Producto\n",
              "Cama box                     62\n",
              "Cubertería                   59\n",
              "Dashboards con Power BI      56\n",
              "Cama king                    56\n",
              "Carrito de control remoto    55\n",
              "Mesa de comedor              55\n",
              "Mesa de noche                55\n",
              "Smart TV                     54\n",
              "Bloques de construcción      54\n",
              "Pandereta                    52\n",
              "Name: count, dtype: int64"
            ],
            "text/html": [
              "<div>\n",
              "<style scoped>\n",
              "    .dataframe tbody tr th:only-of-type {\n",
              "        vertical-align: middle;\n",
              "    }\n",
              "\n",
              "    .dataframe tbody tr th {\n",
              "        vertical-align: top;\n",
              "    }\n",
              "\n",
              "    .dataframe thead th {\n",
              "        text-align: right;\n",
              "    }\n",
              "</style>\n",
              "<table border=\"1\" class=\"dataframe\">\n",
              "  <thead>\n",
              "    <tr style=\"text-align: right;\">\n",
              "      <th></th>\n",
              "      <th>count</th>\n",
              "    </tr>\n",
              "    <tr>\n",
              "      <th>Producto</th>\n",
              "      <th></th>\n",
              "    </tr>\n",
              "  </thead>\n",
              "  <tbody>\n",
              "    <tr>\n",
              "      <th>Cama box</th>\n",
              "      <td>62</td>\n",
              "    </tr>\n",
              "    <tr>\n",
              "      <th>Cubertería</th>\n",
              "      <td>59</td>\n",
              "    </tr>\n",
              "    <tr>\n",
              "      <th>Dashboards con Power BI</th>\n",
              "      <td>56</td>\n",
              "    </tr>\n",
              "    <tr>\n",
              "      <th>Cama king</th>\n",
              "      <td>56</td>\n",
              "    </tr>\n",
              "    <tr>\n",
              "      <th>Carrito de control remoto</th>\n",
              "      <td>55</td>\n",
              "    </tr>\n",
              "    <tr>\n",
              "      <th>Mesa de comedor</th>\n",
              "      <td>55</td>\n",
              "    </tr>\n",
              "    <tr>\n",
              "      <th>Mesa de noche</th>\n",
              "      <td>55</td>\n",
              "    </tr>\n",
              "    <tr>\n",
              "      <th>Smart TV</th>\n",
              "      <td>54</td>\n",
              "    </tr>\n",
              "    <tr>\n",
              "      <th>Bloques de construcción</th>\n",
              "      <td>54</td>\n",
              "    </tr>\n",
              "    <tr>\n",
              "      <th>Pandereta</th>\n",
              "      <td>52</td>\n",
              "    </tr>\n",
              "  </tbody>\n",
              "</table>\n",
              "</div><br><label><b>dtype:</b> int64</label>"
            ]
          },
          "metadata": {},
          "execution_count": 68
        }
      ]
    },
    {
      "cell_type": "code",
      "source": [
        "mev_1 = tienda['Producto'].value_counts(ascending=True)\n",
        "print('LOS PRODUCTOS MENOS VENDIDOS DE LA TIENDA 1 SON:')\n",
        "mev_1.head(10)"
      ],
      "metadata": {
        "colab": {
          "base_uri": "https://localhost:8080/",
          "height": 446
        },
        "id": "U2szxvj6IQSd",
        "outputId": "a756946c-fca0-408e-b76b-08813a395ff4"
      },
      "execution_count": 69,
      "outputs": [
        {
          "output_type": "stream",
          "name": "stdout",
          "text": [
            "LOS PRODUCTOS MENOS VENDIDOS DE LA TIENDA 1 SON:\n"
          ]
        },
        {
          "output_type": "execute_result",
          "data": {
            "text/plain": [
              "Producto\n",
              "Auriculares con micrófono      33\n",
              "Celular ABXY                   33\n",
              "Olla de presión                35\n",
              "Pandereta                      36\n",
              "Mochila                        39\n",
              "Ciencia de datos con Python    39\n",
              "Asistente virtual              40\n",
              "Mesa de comedor                40\n",
              "Muñeca bebé                    40\n",
              "Dinosaurio Rex                 40\n",
              "Name: count, dtype: int64"
            ],
            "text/html": [
              "<div>\n",
              "<style scoped>\n",
              "    .dataframe tbody tr th:only-of-type {\n",
              "        vertical-align: middle;\n",
              "    }\n",
              "\n",
              "    .dataframe tbody tr th {\n",
              "        vertical-align: top;\n",
              "    }\n",
              "\n",
              "    .dataframe thead th {\n",
              "        text-align: right;\n",
              "    }\n",
              "</style>\n",
              "<table border=\"1\" class=\"dataframe\">\n",
              "  <thead>\n",
              "    <tr style=\"text-align: right;\">\n",
              "      <th></th>\n",
              "      <th>count</th>\n",
              "    </tr>\n",
              "    <tr>\n",
              "      <th>Producto</th>\n",
              "      <th></th>\n",
              "    </tr>\n",
              "  </thead>\n",
              "  <tbody>\n",
              "    <tr>\n",
              "      <th>Auriculares con micrófono</th>\n",
              "      <td>33</td>\n",
              "    </tr>\n",
              "    <tr>\n",
              "      <th>Celular ABXY</th>\n",
              "      <td>33</td>\n",
              "    </tr>\n",
              "    <tr>\n",
              "      <th>Olla de presión</th>\n",
              "      <td>35</td>\n",
              "    </tr>\n",
              "    <tr>\n",
              "      <th>Pandereta</th>\n",
              "      <td>36</td>\n",
              "    </tr>\n",
              "    <tr>\n",
              "      <th>Mochila</th>\n",
              "      <td>39</td>\n",
              "    </tr>\n",
              "    <tr>\n",
              "      <th>Ciencia de datos con Python</th>\n",
              "      <td>39</td>\n",
              "    </tr>\n",
              "    <tr>\n",
              "      <th>Asistente virtual</th>\n",
              "      <td>40</td>\n",
              "    </tr>\n",
              "    <tr>\n",
              "      <th>Mesa de comedor</th>\n",
              "      <td>40</td>\n",
              "    </tr>\n",
              "    <tr>\n",
              "      <th>Muñeca bebé</th>\n",
              "      <td>40</td>\n",
              "    </tr>\n",
              "    <tr>\n",
              "      <th>Dinosaurio Rex</th>\n",
              "      <td>40</td>\n",
              "    </tr>\n",
              "  </tbody>\n",
              "</table>\n",
              "</div><br><label><b>dtype:</b> int64</label>"
            ]
          },
          "metadata": {},
          "execution_count": 69
        }
      ]
    },
    {
      "cell_type": "code",
      "source": [
        "mev_2 = tienda2['Producto'].value_counts(ascending=True)\n",
        "print('LOS PRODUCTOS MENOS VENDIDOS DE LA TIENDA 2 SON:')\n",
        "mev_2.head(10)"
      ],
      "metadata": {
        "colab": {
          "base_uri": "https://localhost:8080/",
          "height": 446
        },
        "id": "nTH5Pqa-VQJw",
        "outputId": "79e86fee-a9df-41c3-f3c1-d602e7c1cac2"
      },
      "execution_count": 70,
      "outputs": [
        {
          "output_type": "stream",
          "name": "stdout",
          "text": [
            "LOS PRODUCTOS MENOS VENDIDOS DE LA TIENDA 2 SON:\n"
          ]
        },
        {
          "output_type": "execute_result",
          "data": {
            "text/plain": [
              "Producto\n",
              "Juego de mesa        32\n",
              "Mesa de comedor      34\n",
              "Impresora            34\n",
              "Sillón               35\n",
              "Auriculares          37\n",
              "Asistente virtual    38\n",
              "Cubertería           39\n",
              "Smart TV             40\n",
              "Celular ABXY         41\n",
              "Estufa               42\n",
              "Name: count, dtype: int64"
            ],
            "text/html": [
              "<div>\n",
              "<style scoped>\n",
              "    .dataframe tbody tr th:only-of-type {\n",
              "        vertical-align: middle;\n",
              "    }\n",
              "\n",
              "    .dataframe tbody tr th {\n",
              "        vertical-align: top;\n",
              "    }\n",
              "\n",
              "    .dataframe thead th {\n",
              "        text-align: right;\n",
              "    }\n",
              "</style>\n",
              "<table border=\"1\" class=\"dataframe\">\n",
              "  <thead>\n",
              "    <tr style=\"text-align: right;\">\n",
              "      <th></th>\n",
              "      <th>count</th>\n",
              "    </tr>\n",
              "    <tr>\n",
              "      <th>Producto</th>\n",
              "      <th></th>\n",
              "    </tr>\n",
              "  </thead>\n",
              "  <tbody>\n",
              "    <tr>\n",
              "      <th>Juego de mesa</th>\n",
              "      <td>32</td>\n",
              "    </tr>\n",
              "    <tr>\n",
              "      <th>Mesa de comedor</th>\n",
              "      <td>34</td>\n",
              "    </tr>\n",
              "    <tr>\n",
              "      <th>Impresora</th>\n",
              "      <td>34</td>\n",
              "    </tr>\n",
              "    <tr>\n",
              "      <th>Sillón</th>\n",
              "      <td>35</td>\n",
              "    </tr>\n",
              "    <tr>\n",
              "      <th>Auriculares</th>\n",
              "      <td>37</td>\n",
              "    </tr>\n",
              "    <tr>\n",
              "      <th>Asistente virtual</th>\n",
              "      <td>38</td>\n",
              "    </tr>\n",
              "    <tr>\n",
              "      <th>Cubertería</th>\n",
              "      <td>39</td>\n",
              "    </tr>\n",
              "    <tr>\n",
              "      <th>Smart TV</th>\n",
              "      <td>40</td>\n",
              "    </tr>\n",
              "    <tr>\n",
              "      <th>Celular ABXY</th>\n",
              "      <td>41</td>\n",
              "    </tr>\n",
              "    <tr>\n",
              "      <th>Estufa</th>\n",
              "      <td>42</td>\n",
              "    </tr>\n",
              "  </tbody>\n",
              "</table>\n",
              "</div><br><label><b>dtype:</b> int64</label>"
            ]
          },
          "metadata": {},
          "execution_count": 70
        }
      ]
    },
    {
      "cell_type": "code",
      "source": [
        "mev_3 = tienda3['Producto'].value_counts(ascending=True)\n",
        "print('LOS PRODUCTOS MENOS VENDIDOS DE LA TIENDA 3 SON:')\n",
        "mev_3.head(10)"
      ],
      "metadata": {
        "colab": {
          "base_uri": "https://localhost:8080/",
          "height": 446
        },
        "id": "FoTbuvziVQXn",
        "outputId": "50f5e8e2-03e3-41c4-ea47-d63ae1f179db"
      },
      "execution_count": 71,
      "outputs": [
        {
          "output_type": "stream",
          "name": "stdout",
          "text": [
            "LOS PRODUCTOS MENOS VENDIDOS DE LA TIENDA 3 SON:\n"
          ]
        },
        {
          "output_type": "execute_result",
          "data": {
            "text/plain": [
              "Producto\n",
              "Bloques de construcción      35\n",
              "Set de vasos                 36\n",
              "Microondas                   36\n",
              "Mochila                      36\n",
              "Guitarra eléctrica           38\n",
              "Vaso térmico                 38\n",
              "Muñeca bebé                  39\n",
              "Cubertería                   39\n",
              "Asistente virtual            39\n",
              "Auriculares con micrófono    39\n",
              "Name: count, dtype: int64"
            ],
            "text/html": [
              "<div>\n",
              "<style scoped>\n",
              "    .dataframe tbody tr th:only-of-type {\n",
              "        vertical-align: middle;\n",
              "    }\n",
              "\n",
              "    .dataframe tbody tr th {\n",
              "        vertical-align: top;\n",
              "    }\n",
              "\n",
              "    .dataframe thead th {\n",
              "        text-align: right;\n",
              "    }\n",
              "</style>\n",
              "<table border=\"1\" class=\"dataframe\">\n",
              "  <thead>\n",
              "    <tr style=\"text-align: right;\">\n",
              "      <th></th>\n",
              "      <th>count</th>\n",
              "    </tr>\n",
              "    <tr>\n",
              "      <th>Producto</th>\n",
              "      <th></th>\n",
              "    </tr>\n",
              "  </thead>\n",
              "  <tbody>\n",
              "    <tr>\n",
              "      <th>Bloques de construcción</th>\n",
              "      <td>35</td>\n",
              "    </tr>\n",
              "    <tr>\n",
              "      <th>Set de vasos</th>\n",
              "      <td>36</td>\n",
              "    </tr>\n",
              "    <tr>\n",
              "      <th>Microondas</th>\n",
              "      <td>36</td>\n",
              "    </tr>\n",
              "    <tr>\n",
              "      <th>Mochila</th>\n",
              "      <td>36</td>\n",
              "    </tr>\n",
              "    <tr>\n",
              "      <th>Guitarra eléctrica</th>\n",
              "      <td>38</td>\n",
              "    </tr>\n",
              "    <tr>\n",
              "      <th>Vaso térmico</th>\n",
              "      <td>38</td>\n",
              "    </tr>\n",
              "    <tr>\n",
              "      <th>Muñeca bebé</th>\n",
              "      <td>39</td>\n",
              "    </tr>\n",
              "    <tr>\n",
              "      <th>Cubertería</th>\n",
              "      <td>39</td>\n",
              "    </tr>\n",
              "    <tr>\n",
              "      <th>Asistente virtual</th>\n",
              "      <td>39</td>\n",
              "    </tr>\n",
              "    <tr>\n",
              "      <th>Auriculares con micrófono</th>\n",
              "      <td>39</td>\n",
              "    </tr>\n",
              "  </tbody>\n",
              "</table>\n",
              "</div><br><label><b>dtype:</b> int64</label>"
            ]
          },
          "metadata": {},
          "execution_count": 71
        }
      ]
    },
    {
      "cell_type": "code",
      "source": [
        "mev_4 = tienda4['Producto'].value_counts(ascending=True)\n",
        "print('LOS PRODUCTOS MENOS VENDIDOS DE LA TIENDA 4 SON:')\n",
        "mev_4.head(10)"
      ],
      "metadata": {
        "colab": {
          "base_uri": "https://localhost:8080/",
          "height": 446
        },
        "id": "Sa3kR3r9VQjI",
        "outputId": "2e7419b7-619a-4cad-83e4-003e8cb790a6"
      },
      "execution_count": 106,
      "outputs": [
        {
          "output_type": "stream",
          "name": "stdout",
          "text": [
            "LOS PRODUCTOS MENOS VENDIDOS DE LA TIENDA 4 SON:\n"
          ]
        },
        {
          "output_type": "execute_result",
          "data": {
            "text/plain": [
              "Producto\n",
              "Guitarra eléctrica             33\n",
              "Armario                        34\n",
              "Guitarra acústica              37\n",
              "Refrigerador                   38\n",
              "Lavadora de ropa               38\n",
              "Ciencia de datos con Python    38\n",
              "Celular ABXY                   39\n",
              "Ajedrez de madera              39\n",
              "Smartwatch                     39\n",
              "TV LED UHD 4K                  40\n",
              "Name: count, dtype: int64"
            ],
            "text/html": [
              "<div>\n",
              "<style scoped>\n",
              "    .dataframe tbody tr th:only-of-type {\n",
              "        vertical-align: middle;\n",
              "    }\n",
              "\n",
              "    .dataframe tbody tr th {\n",
              "        vertical-align: top;\n",
              "    }\n",
              "\n",
              "    .dataframe thead th {\n",
              "        text-align: right;\n",
              "    }\n",
              "</style>\n",
              "<table border=\"1\" class=\"dataframe\">\n",
              "  <thead>\n",
              "    <tr style=\"text-align: right;\">\n",
              "      <th></th>\n",
              "      <th>count</th>\n",
              "    </tr>\n",
              "    <tr>\n",
              "      <th>Producto</th>\n",
              "      <th></th>\n",
              "    </tr>\n",
              "  </thead>\n",
              "  <tbody>\n",
              "    <tr>\n",
              "      <th>Guitarra eléctrica</th>\n",
              "      <td>33</td>\n",
              "    </tr>\n",
              "    <tr>\n",
              "      <th>Armario</th>\n",
              "      <td>34</td>\n",
              "    </tr>\n",
              "    <tr>\n",
              "      <th>Guitarra acústica</th>\n",
              "      <td>37</td>\n",
              "    </tr>\n",
              "    <tr>\n",
              "      <th>Refrigerador</th>\n",
              "      <td>38</td>\n",
              "    </tr>\n",
              "    <tr>\n",
              "      <th>Lavadora de ropa</th>\n",
              "      <td>38</td>\n",
              "    </tr>\n",
              "    <tr>\n",
              "      <th>Ciencia de datos con Python</th>\n",
              "      <td>38</td>\n",
              "    </tr>\n",
              "    <tr>\n",
              "      <th>Celular ABXY</th>\n",
              "      <td>39</td>\n",
              "    </tr>\n",
              "    <tr>\n",
              "      <th>Ajedrez de madera</th>\n",
              "      <td>39</td>\n",
              "    </tr>\n",
              "    <tr>\n",
              "      <th>Smartwatch</th>\n",
              "      <td>39</td>\n",
              "    </tr>\n",
              "    <tr>\n",
              "      <th>TV LED UHD 4K</th>\n",
              "      <td>40</td>\n",
              "    </tr>\n",
              "  </tbody>\n",
              "</table>\n",
              "</div><br><label><b>dtype:</b> int64</label>"
            ]
          },
          "metadata": {},
          "execution_count": 106
        }
      ]
    },
    {
      "cell_type": "markdown",
      "source": [
        "# 5. Envío promedio por tienda"
      ],
      "metadata": {
        "id": "Fl0cGi3bZKqU"
      }
    },
    {
      "cell_type": "code",
      "source": [
        "# Calcular el promedio de envios\n",
        "envio_1 = tienda['Costo de envío'].mean()\n",
        "r_1 = round(envio_1, 2)\n",
        "print('El envío promedio de la tienda 1 es :$',r_1)\n",
        "\n",
        "envio_2 = tienda2['Costo de envío'].mean()\n",
        "r_2 = round(envio_2, 2)\n",
        "print('El envío promedio de la tienda 2 es :$',r_2)\n",
        "\n",
        "envio_3 = tienda3['Costo de envío'].mean()\n",
        "r_3 = round(envio_3, 2)\n",
        "print('El envío promedio de la tienda 3 es :$',r_3)\n",
        "\n",
        "envio_4 = tienda4['Costo de envío'].mean()\n",
        "r_4 = round(envio_4, 2)\n",
        "print('El envío promedio de la tienda 4 es :$',r_4)\n"
      ],
      "metadata": {
        "id": "S2JeaCykZNy9",
        "colab": {
          "base_uri": "https://localhost:8080/"
        },
        "outputId": "523dca6d-3262-48d1-b3ab-12499dacd70f"
      },
      "execution_count": 102,
      "outputs": [
        {
          "output_type": "stream",
          "name": "stdout",
          "text": [
            "El envío promedio de la tienda 1 es :$ 26018.61\n",
            "El envío promedio de la tienda 2 es :$ 25216.24\n",
            "El envío promedio de la tienda 3 es :$ 24805.68\n",
            "El envío promedio de la tienda 4 es :$ 23459.46\n"
          ]
        }
      ]
    },
    {
      "cell_type": "code",
      "source": [
        "#grafico envio promedio\n",
        "\n",
        "etiquetas = ['Tienda 1', 'Tienda 2', 'Tienda 3', 'Tienda 4']\n",
        "envios = [r_1,r_2,r_3,r_4]\n",
        "co = np.arange(len(envios))\n",
        "an = 0.5\n",
        "fig , ax = plt.subplots()\n",
        "for i,j in zip(co,envios):\n",
        "     ax.annotate(j, xy=(i-0.3,j+0.3))\n",
        "ax.bar(co,envios,an)\n",
        "ax.set_xticks(co)\n",
        "ax.set_xticklabels(etiquetas)\n",
        "plt.ylabel('Montos envios')\n",
        "plt.title('Envío promedio por tienda')\n",
        "plt.show()"
      ],
      "metadata": {
        "colab": {
          "base_uri": "https://localhost:8080/",
          "height": 453
        },
        "id": "HLwoRT4cQKzw",
        "outputId": "eee922c8-f979-410c-ca6e-6bc05298acda"
      },
      "execution_count": 104,
      "outputs": [
        {
          "output_type": "display_data",
          "data": {
            "text/plain": [
              "<Figure size 640x480 with 1 Axes>"
            ],
            "image/png": "[encoded data removed]"
          },
          "metadata": {}
        }
      ]
    }
  ]
}